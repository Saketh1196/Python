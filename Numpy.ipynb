{
 "cells": [
  {
   "cell_type": "code",
   "execution_count": 6,
   "metadata": {},
   "outputs": [
    {
     "data": {
      "text/plain": [
       "array([[  1,   1,   1,   1],\n",
       "       [ 27,   9,   3,   1],\n",
       "       [125,  25,   5,   1],\n",
       "       [343,  49,   7,   1],\n",
       "       [729,  81,   9,   1]])"
      ]
     },
     "execution_count": 6,
     "metadata": {},
     "output_type": "execute_result"
    }
   ],
   "source": [
    "import numpy as np\n",
    "\n",
    "a = np.array([1,3,5,7,9])\n",
    "N = 4\n",
    "b = np.vander(a,N)\n",
    "b"
   ]
  },
  {
   "cell_type": "code",
   "execution_count": 36,
   "metadata": {},
   "outputs": [
    {
     "name": "stdout",
     "output_type": "stream",
     "text": [
      "The value of Moving Average Sequence is: 11\n",
      "\n",
      "\n",
      "Moving Average of 0 sequence over window of 3 is: 5.0\n",
      "Moving Average of 1 sequence over window of 3 is: 4.666666666666667\n",
      "Moving Average of 2 sequence over window of 3 is: 5.666666666666667\n",
      "Moving Average of 3 sequence over window of 3 is: 6.666666666666667\n",
      "Moving Average of 4 sequence over window of 3 is: 9.666666666666666\n",
      "Moving Average of 5 sequence over window of 3 is: 28.666666666666668\n",
      "Moving Average of 6 sequence over window of 3 is: 49.333333333333336\n",
      "Moving Average of 7 sequence over window of 3 is: 72.66666666666667\n",
      "Moving Average of 8 sequence over window of 3 is: 84.0\n",
      "Moving Average of 9 sequence over window of 3 is: 93.33333333333333\n",
      "Moving Average of 10 sequence over window of 3 is: 116.33333333333333\n"
     ]
    }
   ],
   "source": [
    "def move_average(x):\n",
    "    c = np.array([3, 5, 7, 2, 8, 10, 11, 65, 72, 81, 99, 100, 150])\n",
    "    d = len(c) - x + 1\n",
    "    print('The value of Moving Average Sequence is:',d)\n",
    "    print('\\n')\n",
    "    for i in range(0,d):\n",
    "        print('Moving Average of '+ str(i) +' sequence over window of 3 is:',(c[i]+c[i+1]+c[i+2])/x)\n",
    "\n",
    "move_average(3)"
   ]
  },
  {
   "cell_type": "code",
   "execution_count": null,
   "metadata": {},
   "outputs": [],
   "source": []
  },
  {
   "cell_type": "code",
   "execution_count": null,
   "metadata": {},
   "outputs": [],
   "source": []
  }
 ],
 "metadata": {
  "kernelspec": {
   "display_name": "Python 3",
   "language": "python",
   "name": "python3"
  },
  "language_info": {
   "codemirror_mode": {
    "name": "ipython",
    "version": 3
   },
   "file_extension": ".py",
   "mimetype": "text/x-python",
   "name": "python",
   "nbconvert_exporter": "python",
   "pygments_lexer": "ipython3",
   "version": "3.8.5"
  },
  "latex_envs": {
   "LaTeX_envs_menu_present": true,
   "autoclose": false,
   "autocomplete": true,
   "bibliofile": "biblio.bib",
   "cite_by": "apalike",
   "current_citInitial": 1,
   "eqLabelWithNumbers": true,
   "eqNumInitial": 1,
   "hotkeys": {
    "equation": "Ctrl-E",
    "itemize": "Ctrl-I"
   },
   "labels_anchors": false,
   "latex_user_defs": false,
   "report_style_numbering": false,
   "user_envs_cfg": false
  }
 },
 "nbformat": 4,
 "nbformat_minor": 4
}
