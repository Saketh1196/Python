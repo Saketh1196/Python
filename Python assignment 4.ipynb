{
 "cells": [
  {
   "cell_type": "code",
   "execution_count": 92,
   "metadata": {},
   "outputs": [
    {
     "name": "stdout",
     "output_type": "stream",
     "text": [
      "Enter the length of the triangle: 4\n",
      "Enter the length of the triangle: 5\n",
      "Enter the length of the triangle: 6\n",
      "Area of the triangle is:  9.921567416492215\n"
     ]
    }
   ],
   "source": [
    "class Triangle:\n",
    "    \n",
    "    def __init__(self,a,b,c):\n",
    "        self.l1 = float(a)\n",
    "        self.l2 = float(b)\n",
    "        self.l3 = float(c)\n",
    "        \n",
    "    l1=int(input(\"Enter the length of the triangle: \"))\n",
    "    l2=int(input(\"Enter the length of the triangle: \"))\n",
    "    l3=int(input(\"Enter the length of the triangle: \"))\n",
    "        \n",
    "class Area(Triangle):\n",
    "    \n",
    "    def __init__(self,*args):\n",
    "        super(Area,self).__init__(*args)\n",
    "        \n",
    "    def area(self):\n",
    "        s=(l1+l2+l3)/2\n",
    "        return (s*(s-l1)*(s-l2)*(s-l3))**0.5\n",
    "    \n",
    "t = Area(l1,l2,l3)\n",
    "print(\"Area of the triangle is: \",t.area())\n"
   ]
  },
  {
   "cell_type": "code",
   "execution_count": 110,
   "metadata": {},
   "outputs": [
    {
     "data": {
      "text/plain": [
       "['Tiger', 'donkey', 'monkey', 'Elephant']"
      ]
     },
     "execution_count": 110,
     "metadata": {},
     "output_type": "execute_result"
    }
   ],
   "source": [
    "def filter_long_words():\n",
    "    l=['Tiger','lion','cow','donkey','monkey', 'Elephant']\n",
    "    n=5\n",
    "    m=[]\n",
    "    for i in l:\n",
    "        if len(i)>=n:\n",
    "            m.append(i)\n",
    "    return m\n",
    "filter_long_words()"
   ]
  },
  {
   "cell_type": "code",
   "execution_count": 113,
   "metadata": {},
   "outputs": [
    {
     "name": "stdout",
     "output_type": "stream",
     "text": [
      "[6, 5, 6, 13]\n"
     ]
    }
   ],
   "source": [
    "def map_numbers(a):\n",
    "    return len(a)\n",
    "    \n",
    "l_words = ['Saketh','India','Garuda','Visakhapatnam']\n",
    "result = map(map_numbers, l_words)\n",
    "print(list(result))"
   ]
  },
  {
   "cell_type": "code",
   "execution_count": 56,
   "metadata": {},
   "outputs": [
    {
     "data": {
      "text/plain": [
       "True"
      ]
     },
     "execution_count": 56,
     "metadata": {},
     "output_type": "execute_result"
    }
   ],
   "source": [
    "def vowel(f):\n",
    "\n",
    "    if (f=='a' or f=='e' or f=='i' or f=='o' or f=='u'):\n",
    "        return True\n",
    "    else:\n",
    "        return False\n",
    "    \n",
    "vowel('e')"
   ]
  },
  {
   "cell_type": "code",
   "execution_count": null,
   "metadata": {},
   "outputs": [],
   "source": []
  }
 ],
 "metadata": {
  "kernelspec": {
   "display_name": "Python 3",
   "language": "python",
   "name": "python3"
  },
  "language_info": {
   "codemirror_mode": {
    "name": "ipython",
    "version": 3
   },
   "file_extension": ".py",
   "mimetype": "text/x-python",
   "name": "python",
   "nbconvert_exporter": "python",
   "pygments_lexer": "ipython3",
   "version": "3.8.5"
  },
  "latex_envs": {
   "LaTeX_envs_menu_present": true,
   "autoclose": false,
   "autocomplete": true,
   "bibliofile": "biblio.bib",
   "cite_by": "apalike",
   "current_citInitial": 1,
   "eqLabelWithNumbers": true,
   "eqNumInitial": 1,
   "hotkeys": {
    "equation": "Ctrl-E",
    "itemize": "Ctrl-I"
   },
   "labels_anchors": false,
   "latex_user_defs": false,
   "report_style_numbering": false,
   "user_envs_cfg": false
  }
 },
 "nbformat": 4,
 "nbformat_minor": 4
}
